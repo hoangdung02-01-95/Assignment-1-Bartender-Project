{
 "cells": [
  {
   "cell_type": "markdown",
   "metadata": {},
   "source": [
    "# Assignment 1: Bartender Project\n"
   ]
  },
  {
   "cell_type": "code",
   "execution_count": 44,
   "metadata": {
    "scrolled": true
   },
   "outputs": [
    {
     "name": "stdout",
     "output_type": "stream",
     "text": [
      "bartender: Do ye like yer drinks strong?\n",
      "user     : slug of whisky\n",
      "bartender: Do ye like it with a salty tang?\n",
      "user     : salt-dusted rim\n",
      "bartender: Are ye a lubber who likes it bitter?\n",
      "user     : twist of lemon peel\n",
      "bartender: Would ye like a bit of sweetness with yer poison?\n",
      "user     : sugar cube\n",
      "bartender: Are ye one for a fruity finish?\n",
      "user     : dash of cassis\n"
     ]
    }
   ],
   "source": [
    "# data\n",
    "questions = {\n",
    "\"strong\": \"Do ye like yer drinks strong?\",\n",
    "\"salty\": \"Do ye like it with a salty tang?\",\n",
    "\"bitter\": \"Are ye a lubber who likes it bitter?\",\n",
    "\"sweet\": \"Would ye like a bit of sweetness with yer poison?\",\n",
    "\"fruity\": \"Are ye one for a fruity finish?\",\n",
    "}\n",
    "\n",
    "ingredients = {\n",
    "\"strong\": [\"glug of rum\", \"slug of whisky\", \"splash of gin\"],\n",
    "\"salty\": [\"olive on a stick\", \"salt-dusted rim\", \"rasher of bacon\"],\n",
    "\"bitter\": [\"shake of bitters\", \"splash of tonic\", \"twist of lemon peel\"],\n",
    "\"sweet\": [\"sugar cube\", \"spoonful of honey\", \"spash of cola\"],\n",
    "\"fruity\": [\"slice of orange\", \"dash of cassis\", \"cherry on top\"],\n",
    "}\n",
    "\n",
    "#code\n",
    "def bartender_and_user(x):\n",
    "    #function use for ask and ans of bartender and user\n",
    "    for key,value in x.items():\n",
    "        print(\"bartender: \" + value)\n",
    "        print(\"user     : \" + random.choice(ingredients[key])) # function random.choice is select random element in list\n",
    "\n",
    "#call function\n",
    "bartender_and_user(questions)"
   ]
  }
 ],
 "metadata": {
  "kernelspec": {
   "display_name": "Python 3",
   "language": "python",
   "name": "python3"
  },
  "language_info": {
   "codemirror_mode": {
    "name": "ipython",
    "version": 3
   },
   "file_extension": ".py",
   "mimetype": "text/x-python",
   "name": "python",
   "nbconvert_exporter": "python",
   "pygments_lexer": "ipython3",
   "version": "3.7.3"
  }
 },
 "nbformat": 4,
 "nbformat_minor": 2
}
